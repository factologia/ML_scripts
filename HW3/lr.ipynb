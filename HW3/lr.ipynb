{
 "cells": [
  {
   "cell_type": "markdown",
   "metadata": {},
   "source": [
    "Построить классификатор, который \"угадывает\" персонажа по его фразе. Baseline: равновероятный выбор между всеми главными героями."
   ]
  },
  {
   "cell_type": "code",
   "execution_count": 1,
   "metadata": {
    "collapsed": false
   },
   "outputs": [],
   "source": [
    "import pandas as pd\n",
    "import numpy as np\n",
    "import matplotlib.pyplot as plt\n",
    "import nltk\n",
    "import itertools\n",
    "from plotting import plot_confusion_matrix, plot_classification_report\n",
    "from nltk import word_tokenize\n",
    "from nltk.tokenize import RegexpTokenizer\n",
    "from nltk.stem.wordnet import WordNetLemmatizer\n",
    "from nltk.corpus import stopwords\n",
    "from sklearn.feature_extraction.text import CountVectorizer\n",
    "from sklearn.model_selection import train_test_split, cross_val_score, GridSearchCV\n",
    "from sklearn.ensemble import RandomForestClassifier\n",
    "from sklearn.metrics import classification_report, confusion_matrix\n",
    "from sklearn.naive_bayes import MultinomialNB\n",
    "from sklearn.linear_model import LogisticRegression\n",
    "from sklearn.dummy import DummyClassifier\n",
    "%matplotlib inline"
   ]
  },
  {
   "cell_type": "markdown",
   "metadata": {},
   "source": [
    "Примерный план действий: \n",
    "\n",
    "выделить реплики главных персонажей\n",
    "\n",
    "сгруппировать их по героям\n",
    "\n",
    "нормализовать (свой выбор процедур объяснить (например, нужно ли включать в стоп-лист обсценную лексику?);\n",
    "\n",
    "векторизовать (например, CountVectorizer)\n",
    "\n",
    "отрезать поверочную выборку (эту часть не трогаем до последней проверки). "
   ]
  },
  {
   "cell_type": "raw",
   "metadata": {},
   "source": [
    "Смотрим на топ 10 персонажей (по частоте реплик)."
   ]
  },
  {
   "cell_type": "code",
   "execution_count": 2,
   "metadata": {
    "collapsed": false
   },
   "outputs": [
    {
     "data": {
      "text/plain": [
       "Character\n",
       "Cartman         9774\n",
       "Stan            7680\n",
       "Kyle            7099\n",
       "Butters         2602\n",
       "Randy           2467\n",
       "Mr. Garrison    1002\n",
       "Chef             917\n",
       "Kenny            881\n",
       "Sharon           862\n",
       "Mr. Mackey       633\n",
       "dtype: int64"
      ]
     },
     "execution_count": 2,
     "metadata": {},
     "output_type": "execute_result"
    }
   ],
   "source": [
    "df = pd.read_csv(\"All-seasons.csv\", header=0)\n",
    "top = df.groupby(['Character']).size().sort_values(ascending=False)[:10]\n",
    "top"
   ]
  },
  {
   "cell_type": "raw",
   "metadata": {},
   "source": [
    "Между Randy и Mr.Garrison в частотном списке большой гэп. Обрежем на Randy."
   ]
  },
  {
   "cell_type": "code",
   "execution_count": 3,
   "metadata": {
    "collapsed": false
   },
   "outputs": [
    {
     "data": {
      "text/plain": [
       "Index(['Cartman', 'Stan', 'Kyle', 'Butters', 'Randy'], dtype='object', name='Character')"
      ]
     },
     "execution_count": 3,
     "metadata": {},
     "output_type": "execute_result"
    }
   ],
   "source": [
    "chars = top[:5].axes[0]\n",
    "chars"
   ]
  },
  {
   "cell_type": "raw",
   "metadata": {
    "collapsed": true
   },
   "source": [
    "Создаем новый датафрейм, где записываем только персонажа из топ и его реплики. Выборку балансируем."
   ]
  },
  {
   "cell_type": "code",
   "execution_count": 4,
   "metadata": {
    "collapsed": true
   },
   "outputs": [],
   "source": [
    "new_df = pd.DataFrame([])"
   ]
  },
  {
   "cell_type": "code",
   "execution_count": 5,
   "metadata": {
    "collapsed": false
   },
   "outputs": [
    {
     "data": {
      "text/plain": [
       "Character\n",
       "Butters    2467\n",
       "Cartman    2467\n",
       "Kyle       2467\n",
       "Randy      2467\n",
       "Stan       2467\n",
       "dtype: int64"
      ]
     },
     "execution_count": 5,
     "metadata": {},
     "output_type": "execute_result"
    }
   ],
   "source": [
    "for el in chars:\n",
    "    new_df = pd.concat([new_df, df[df['Character'] == el][['Character', 'Line']].sample(frac=1)[:2467]])\n",
    "new_df.groupby(['Character']).size()"
   ]
  },
  {
   "cell_type": "raw",
   "metadata": {},
   "source": [
    "Токенизируем реплики, убирая пунктуацию. Запятые, точки и вопросительные знаки не дают никакой дополнительной информации, вопросительные знаки имеют, на мой взгляд, слишком маленький вес. Приводим к нижнему регистру (здесь не будем, сделает CountVectorizer)"
   ]
  },
  {
   "cell_type": "code",
   "execution_count": 6,
   "metadata": {
    "collapsed": false
   },
   "outputs": [
    {
     "data": {
      "text/html": [
       "<div>\n",
       "<table border=\"1\" class=\"dataframe\">\n",
       "  <thead>\n",
       "    <tr style=\"text-align: right;\">\n",
       "      <th></th>\n",
       "      <th>Character</th>\n",
       "      <th>Line</th>\n",
       "    </tr>\n",
       "  </thead>\n",
       "  <tbody>\n",
       "    <tr>\n",
       "      <th>39741</th>\n",
       "      <td>Cartman</td>\n",
       "      <td>[However, long, Craig, wants, it, to, last, T,...</td>\n",
       "    </tr>\n",
       "    <tr>\n",
       "      <th>25595</th>\n",
       "      <td>Cartman</td>\n",
       "      <td>[Oh, looks, like, Kyle, is, commenting, on, my...</td>\n",
       "    </tr>\n",
       "    <tr>\n",
       "      <th>64184</th>\n",
       "      <td>Cartman</td>\n",
       "      <td>[Naaaa]</td>\n",
       "    </tr>\n",
       "    <tr>\n",
       "      <th>26817</th>\n",
       "      <td>Cartman</td>\n",
       "      <td>[Alright, we, ve, got, power, Prepare, for, ta...</td>\n",
       "    </tr>\n",
       "    <tr>\n",
       "      <th>35519</th>\n",
       "      <td>Cartman</td>\n",
       "      <td>[Excuse, me, but, I, do, believe, that, sucked...</td>\n",
       "    </tr>\n",
       "  </tbody>\n",
       "</table>\n",
       "</div>"
      ],
      "text/plain": [
       "      Character                                               Line\n",
       "39741   Cartman  [However, long, Craig, wants, it, to, last, T,...\n",
       "25595   Cartman  [Oh, looks, like, Kyle, is, commenting, on, my...\n",
       "64184   Cartman                                            [Naaaa]\n",
       "26817   Cartman  [Alright, we, ve, got, power, Prepare, for, ta...\n",
       "35519   Cartman  [Excuse, me, but, I, do, believe, that, sucked..."
      ]
     },
     "execution_count": 6,
     "metadata": {},
     "output_type": "execute_result"
    }
   ],
   "source": [
    "# new_df['Line'] = new_df.Line.map(lambda text: text.lower())\n",
    "new_df['Line'] = new_df.Line.apply(RegexpTokenizer(r'\\w+').tokenize)\n",
    "new_df.head()"
   ]
  },
  {
   "cell_type": "code",
   "execution_count": 7,
   "metadata": {
    "collapsed": false
   },
   "outputs": [
    {
     "name": "stdout",
     "output_type": "stream",
     "text": [
      "['However long Craig want it to last T heh ub Look make no mistake Craig ha been ready for this fight since day one He doesn t even view it a a challenge', 'Oh look like Kyle is commenting on my commenter window bra Be sure to comment on that kyleisgettingfrustrated', 'Naaaa', 'Alright we ve got power Prepare for takeoff', 'Excuse me but I do believe that sucked as', 'You guy Hey you guy Oh my God Oh my God you guy', 'Well it s just that that s what that Casey kid said about your hairpiece', 'Well if they re not gonna give u back the doll then we have no choice Let s go tell on them', 'I want to know where I came from', 'Where is the detonator']\n"
     ]
    }
   ],
   "source": [
    "lem = []\n",
    "for line in new_df.Line:\n",
    "    lem.append(' '.join([WordNetLemmatizer().lemmatize(word) for word in line]))\n",
    "print(lem[:10])"
   ]
  },
  {
   "cell_type": "raw",
   "metadata": {},
   "source": [
    "Качество лемматизатора что-то не очень. Давайте попробуем стемминг."
   ]
  },
  {
   "cell_type": "code",
   "execution_count": 8,
   "metadata": {
    "collapsed": false,
    "scrolled": true
   },
   "outputs": [],
   "source": [
    "new_df['Line'] = lem"
   ]
  },
  {
   "cell_type": "raw",
   "metadata": {},
   "source": [
    "Уберем стоп слова. Стоп слова в nltk представлены в основном служебными частями речи, поэтому это нам подходит для использования. Обсценную лексику не удалям, по причине характерности определнных слов опредленному персонажу."
   ]
  },
  {
   "cell_type": "code",
   "execution_count": 9,
   "metadata": {
    "collapsed": false
   },
   "outputs": [],
   "source": [
    "stop = set(stopwords.words('english'))"
   ]
  },
  {
   "cell_type": "raw",
   "metadata": {},
   "source": [
    "Векторизуем документы."
   ]
  },
  {
   "cell_type": "code",
   "execution_count": 10,
   "metadata": {
    "collapsed": false
   },
   "outputs": [],
   "source": [
    "bow = CountVectorizer(analyzer='word',\n",
    "                      tokenizer=word_tokenize, \n",
    "                      stop_words=stop)\n",
    "bowed = bow.fit_transform(new_df['Line'])"
   ]
  },
  {
   "cell_type": "markdown",
   "metadata": {},
   "source": [
    "На оставшейся, большей, части данных: \n",
    "\n",
    "1) немного поанализировать данные, чтобы понять, какие признаки могут помочь при обучении — например, построить частотные списки и сравнить их (достаточно ли матрицы терм-документ с ненормализованными вхождениями слов?);  "
   ]
  },
  {
   "cell_type": "raw",
   "metadata": {},
   "source": [
    "Кажется, что матрица терм-документ подходит для нашей задачи. Необязательно составлять частотные списки, так как матрица и так содержит эту информацию."
   ]
  },
  {
   "cell_type": "code",
   "execution_count": 11,
   "metadata": {
    "collapsed": false
   },
   "outputs": [],
   "source": [
    "X_train, X_test, y_train, y_test = train_test_split(bowed, new_df['Character'], test_size=0.2)"
   ]
  },
  {
   "cell_type": "code",
   "execution_count": 12,
   "metadata": {
    "collapsed": false
   },
   "outputs": [
    {
     "data": {
      "text/plain": [
       "((9868, 8156), (2467, 8156), (9868,), (2467,))"
      ]
     },
     "execution_count": 12,
     "metadata": {},
     "output_type": "execute_result"
    }
   ],
   "source": [
    "X_train.shape, X_test.shape, y_train.shape, y_test.shape"
   ]
  },
  {
   "cell_type": "markdown",
   "metadata": {},
   "source": [
    "2) обучить модели (лес, наивный байес, логит) и подобрать их оптимальные параметры. Интерпретировать параметры (атрибуты) лучших моделей. Протестировать их на проверочной выборке, выбрать лучшую модель, проиллюстрировать результат (например, нарисовать decision surface). Сравнить результат с нехитрым Baseline классификатором.\n",
    "Важно: в вашем анализе обязательно-преобязательно должна быть интерпретация коэффициентов логистической регрессии."
   ]
  },
  {
   "cell_type": "raw",
   "metadata": {},
   "source": [
    "Кажется, что decision surface хорошо иллюстрирует модель (как она распределяет по классам), но насколько хорош результат понять по нему сложно."
   ]
  },
  {
   "cell_type": "code",
   "execution_count": 13,
   "metadata": {
    "collapsed": false
   },
   "outputs": [],
   "source": [
    "def gs(clf, parameters, x=X_train, y=y_train, x_test=X_test, y_test=y_test):\n",
    "    gs = GridSearchCV(clf, parameters)\n",
    "    gs.fit(x, y)\n",
    "    print (gs.best_params_)\n",
    "    y_pred = gs.predict(x_test)\n",
    "    print(classification_report(y_test, y_pred))"
   ]
  },
  {
   "cell_type": "raw",
   "metadata": {
    "collapsed": true
   },
   "source": [
    "Random Forest"
   ]
  },
  {
   "cell_type": "code",
   "execution_count": 17,
   "metadata": {
    "collapsed": true
   },
   "outputs": [],
   "source": [
    "rfc = RandomForestClassifier(random_state=42)"
   ]
  },
  {
   "cell_type": "raw",
   "metadata": {},
   "source": [
    "Методом подбора и сужения диапазона вручную выбираем значения параметров."
   ]
  },
  {
   "cell_type": "code",
   "execution_count": 18,
   "metadata": {
    "collapsed": true
   },
   "outputs": [],
   "source": [
    "rfc_params = {\n",
    "              'n_estimators': [50, 55, 60],\n",
    "               'max_depth':[None, 2, 4],\n",
    "               'max_leaf_nodes':[None, 2, 4],\n",
    "              'min_samples_leaf': [1, 2, 3],\n",
    "             }"
   ]
  },
  {
   "cell_type": "code",
   "execution_count": 19,
   "metadata": {
    "collapsed": false
   },
   "outputs": [
    {
     "name": "stdout",
     "output_type": "stream",
     "text": [
      "{'max_depth': None, 'max_leaf_nodes': None, 'min_samples_leaf': 2, 'n_estimators': 50}\n",
      "             precision    recall  f1-score   support\n",
      "\n",
      "    Butters       0.49      0.51      0.50       509\n",
      "    Cartman       0.47      0.43      0.45       496\n",
      "       Kyle       0.29      0.37      0.32       483\n",
      "      Randy       0.48      0.42      0.44       491\n",
      "       Stan       0.32      0.28      0.30       488\n",
      "\n",
      "avg / total       0.41      0.40      0.41      2467\n",
      "\n"
     ]
    }
   ],
   "source": [
    "gs(rfc, rfc_params)"
   ]
  },
  {
   "cell_type": "raw",
   "metadata": {},
   "source": [
    "Naive Bayes"
   ]
  },
  {
   "cell_type": "code",
   "execution_count": 20,
   "metadata": {
    "collapsed": false
   },
   "outputs": [],
   "source": [
    "mnb = MultinomialNB()"
   ]
  },
  {
   "cell_type": "code",
   "execution_count": 21,
   "metadata": {
    "collapsed": true
   },
   "outputs": [],
   "source": [
    "mnb_params = {'alpha': [0, 0.5, 1],\n",
    "              'fit_prior': [True, False]\n",
    "             }"
   ]
  },
  {
   "cell_type": "code",
   "execution_count": 22,
   "metadata": {
    "collapsed": false
   },
   "outputs": [
    {
     "name": "stderr",
     "output_type": "stream",
     "text": [
      "C:\\Users\\Maria\\Anaconda3\\lib\\site-packages\\sklearn\\naive_bayes.py:699: RuntimeWarning: divide by zero encountered in log\n",
      "  self.feature_log_prob_ = (np.log(smoothed_fc) -\n",
      "C:\\Users\\Maria\\Anaconda3\\lib\\site-packages\\sklearn\\naive_bayes.py:699: RuntimeWarning: divide by zero encountered in log\n",
      "  self.feature_log_prob_ = (np.log(smoothed_fc) -\n",
      "C:\\Users\\Maria\\Anaconda3\\lib\\site-packages\\sklearn\\naive_bayes.py:699: RuntimeWarning: divide by zero encountered in log\n",
      "  self.feature_log_prob_ = (np.log(smoothed_fc) -\n",
      "C:\\Users\\Maria\\Anaconda3\\lib\\site-packages\\sklearn\\naive_bayes.py:699: RuntimeWarning: divide by zero encountered in log\n",
      "  self.feature_log_prob_ = (np.log(smoothed_fc) -\n",
      "C:\\Users\\Maria\\Anaconda3\\lib\\site-packages\\sklearn\\naive_bayes.py:699: RuntimeWarning: divide by zero encountered in log\n",
      "  self.feature_log_prob_ = (np.log(smoothed_fc) -\n",
      "C:\\Users\\Maria\\Anaconda3\\lib\\site-packages\\sklearn\\naive_bayes.py:699: RuntimeWarning: divide by zero encountered in log\n",
      "  self.feature_log_prob_ = (np.log(smoothed_fc) -\n"
     ]
    },
    {
     "name": "stdout",
     "output_type": "stream",
     "text": [
      "{'alpha': 1, 'fit_prior': True}\n",
      "             precision    recall  f1-score   support\n",
      "\n",
      "    Butters       0.52      0.55      0.53       509\n",
      "    Cartman       0.44      0.45      0.44       496\n",
      "       Kyle       0.32      0.31      0.31       483\n",
      "      Randy       0.47      0.51      0.49       491\n",
      "       Stan       0.33      0.28      0.31       488\n",
      "\n",
      "avg / total       0.42      0.42      0.42      2467\n",
      "\n"
     ]
    }
   ],
   "source": [
    "gs(mnb, mnb_params)"
   ]
  },
  {
   "cell_type": "raw",
   "metadata": {},
   "source": [
    "Logit Regression"
   ]
  },
  {
   "cell_type": "code",
   "execution_count": 23,
   "metadata": {
    "collapsed": true
   },
   "outputs": [],
   "source": [
    "lg = LogisticRegression(random_state=42)"
   ]
  },
  {
   "cell_type": "code",
   "execution_count": 24,
   "metadata": {
    "collapsed": false
   },
   "outputs": [],
   "source": [
    "lg_params = {'penalty': ['l1', 'l2'],\n",
    "             'C': [.1, 1, 10],\n",
    "             'class_weight': ['balanced', None],\n",
    "             'solver': ['liblinear'],\n",
    "#              'verbose': [0, 1],\n",
    "#              'warm_start': [True, False]\n",
    "            }"
   ]
  },
  {
   "cell_type": "code",
   "execution_count": 25,
   "metadata": {
    "collapsed": false
   },
   "outputs": [
    {
     "name": "stdout",
     "output_type": "stream",
     "text": [
      "{'C': 1, 'class_weight': None, 'penalty': 'l2', 'solver': 'liblinear'}\n",
      "             precision    recall  f1-score   support\n",
      "\n",
      "    Butters       0.54      0.50      0.52       509\n",
      "    Cartman       0.46      0.44      0.45       496\n",
      "       Kyle       0.30      0.35      0.33       483\n",
      "      Randy       0.50      0.48      0.49       491\n",
      "       Stan       0.31      0.31      0.31       488\n",
      "\n",
      "avg / total       0.42      0.42      0.42      2467\n",
      "\n"
     ]
    }
   ],
   "source": [
    "gs(lg, lg_params)"
   ]
  },
  {
   "cell_type": "raw",
   "metadata": {},
   "source": [
    "Dummy Classifier"
   ]
  },
  {
   "cell_type": "code",
   "execution_count": 26,
   "metadata": {
    "collapsed": false
   },
   "outputs": [
    {
     "name": "stdout",
     "output_type": "stream",
     "text": [
      "             precision    recall  f1-score   support\n",
      "\n",
      "    Butters       0.22      0.22      0.22       509\n",
      "    Cartman       0.22      0.22      0.22       496\n",
      "       Kyle       0.18      0.17      0.17       483\n",
      "      Randy       0.22      0.23      0.23       491\n",
      "       Stan       0.20      0.21      0.21       488\n",
      "\n",
      "avg / total       0.21      0.21      0.21      2467\n",
      "\n"
     ]
    }
   ],
   "source": [
    "dc = DummyClassifier(strategy='uniform', random_state=42)\n",
    "dc.fit(X_train, y_train)\n",
    "y_pred = dc.predict(X_test)\n",
    "print(classification_report(y_test, y_pred))"
   ]
  },
  {
   "cell_type": "raw",
   "metadata": {},
   "source": [
    "Лучшим классификатором оказалась логистическая регрессия при значении регуляризации = 1 (т.е. накладывает штраф), и алгоритмом оптимизации liblinear. Ф-мера по этой модели самая высокая."
   ]
  },
  {
   "cell_type": "code",
   "execution_count": 13,
   "metadata": {
    "collapsed": false
   },
   "outputs": [],
   "source": [
    "best_clf = LogisticRegression(random_state=42, \n",
    "                              C=1, \n",
    "                              solver='liblinear')\n",
    "best_clf.fit(X_train, y_train)\n",
    "preds = best_clf.predict(X_test)"
   ]
  },
  {
   "cell_type": "code",
   "execution_count": 14,
   "metadata": {
    "collapsed": false
   },
   "outputs": [
    {
     "name": "stdout",
     "output_type": "stream",
     "text": [
      "[-1.48396464 -1.62102935 -1.18144683 -1.61786704 -1.2594561 ] [[-0.15580495 -0.08772079 -0.00474405 ..., -0.0185675  -0.17147368  0.        ]\n",
      " [ 0.60787201 -0.55529952  0.10369064 ..., -0.03558936 -0.18322362  0.        ]\n",
      " [-0.17155669 -0.26637941 -0.42286987 ...,  0.54316923 -0.21750337  0.        ]\n",
      " [-0.12862841  0.3885165  -0.08736373 ..., -0.00609338  0.75688215  0.        ]\n",
      " [-0.1622326   0.45521143  0.23060081 ..., -0.38209342 -0.21285337  0.        ]] ['Butters' 'Cartman' 'Kyle' 'Randy' 'Stan']\n"
     ]
    }
   ],
   "source": [
    "print (best_clf.intercept_, best_clf.coef_, best_clf.classes_)"
   ]
  },
  {
   "cell_type": "raw",
   "metadata": {},
   "source": [
    "Перый коэффициент (точка пересечения) показывает картину, когда все коэффициенты вносят одинаковый вклад.\n",
    "Остальные коэффициенты описывают размер вклада соответствующего признака. \n",
    "Положительный коэффициент: признак вносит положительный вклад в предполагаемый класс (увеличивает вероятность класса).\n",
    "Отрицательный коэффициент: признак вносит отрицательный вклад в предполагаемый класс (уменьшает вероятность класса). \n",
    "Большой коэффициент: признак вносит существенный вклад. \n",
    "Нулевой коэффициент: признак не вносит никакого вклада."
   ]
  },
  {
   "cell_type": "code",
   "execution_count": 15,
   "metadata": {
    "collapsed": false
   },
   "outputs": [
    {
     "name": "stdout",
     "output_type": "stream",
     "text": [
      "             precision    recall  f1-score   support\n",
      "\n",
      "    Butters       0.51      0.56      0.54       490\n",
      "    Cartman       0.43      0.41      0.42       488\n",
      "       Kyle       0.34      0.39      0.36       501\n",
      "      Randy       0.49      0.46      0.47       484\n",
      "       Stan       0.35      0.31      0.33       504\n",
      "\n",
      "avg / total       0.42      0.42      0.42      2467\n",
      "\n"
     ]
    }
   ],
   "source": [
    "print(classification_report(y_test, preds))"
   ]
  },
  {
   "cell_type": "code",
   "execution_count": 16,
   "metadata": {
    "collapsed": false,
    "scrolled": true
   },
   "outputs": [
    {
     "data": {
      "text/plain": [
       "array([[274,  50,  71,  52,  43],\n",
       "       [ 61, 201,  93,  62,  71],\n",
       "       [ 55,  85, 193,  56, 112],\n",
       "       [ 77,  43,  75, 222,  67],\n",
       "       [ 66,  88, 133,  59, 158]])"
      ]
     },
     "execution_count": 16,
     "metadata": {},
     "output_type": "execute_result"
    }
   ],
   "source": [
    "cnf_matrix = confusion_matrix(y_test, preds)\n",
    "cnf_matrix"
   ]
  },
  {
   "cell_type": "raw",
   "metadata": {},
   "source": [
    "Из-за того, что матрица сжата, не получается толком нарисовать решение классификатора. Я долго искала, как это можно сделать - не нашла. Давайте просто выведем красиво результаты."
   ]
  },
  {
   "cell_type": "code",
   "execution_count": 17,
   "metadata": {
    "collapsed": false
   },
   "outputs": [
    {
     "name": "stdout",
     "output_type": "stream",
     "text": [
      "[0.51, 0.56, 0.54]\n",
      "[0.43, 0.41, 0.42]\n",
      "[0.34, 0.39, 0.36]\n",
      "[0.49, 0.46, 0.47]\n",
      "[0.35, 0.31, 0.33]\n",
      "plotMat: [[0.51, 0.56, 0.54], [0.43, 0.41, 0.42], [0.34, 0.39, 0.36], [0.49, 0.46, 0.47], [0.35, 0.31, 0.33]]\n",
      "support: [490, 488, 501, 484, 504]\n"
     ]
    },
    {
     "data": {
      "image/png": "[encoded data removed]",
      "text/plain": [
       "<matplotlib.figure.Figure at 0x1cc86a0cb70>"
      ]
     },
     "metadata": {},
     "output_type": "display_data"
    }
   ],
   "source": [
    "plot_classification_report(classification_report(y_test, preds))"
   ]
  },
  {
   "cell_type": "raw",
   "metadata": {},
   "source": [
    "Видно, что лучше всего распознается персонаж Butters (и полнота по нему самая всокая).\n",
    "Неплохо распознается Randy.\n",
    "Хуже всех распознается Stan."
   ]
  },
  {
   "cell_type": "code",
   "execution_count": 18,
   "metadata": {
    "collapsed": false
   },
   "outputs": [
    {
     "name": "stdout",
     "output_type": "stream",
     "text": [
      "Confusion matrix, without normalization\n",
      "[[274  50  71  52  43]\n",
      " [ 61 201  93  62  71]\n",
      " [ 55  85 193  56 112]\n",
      " [ 77  43  75 222  67]\n",
      " [ 66  88 133  59 158]]\n"
     ]
    },
    {
     "data": {
      "image/png": "[encoded data removed]",
      "text/plain": [
       "<matplotlib.figure.Figure at 0x1cc869950b8>"
      ]
     },
     "metadata": {},
     "output_type": "display_data"
    }
   ],
   "source": [
    "plt.figure()\n",
    "plot_confusion_matrix(cnf_matrix, classes=best_clf.classes_, normalize=False,\n",
    "                      title='Confusion matrix')"
   ]
  },
  {
   "cell_type": "raw",
   "metadata": {
    "collapsed": true
   },
   "source": [
    "Видно, что все персонажи более менее распознаются (большее число правильно распознанных реплик приходится на нужного персонажа).\n",
    "Чаще всего алгоритм путает Kyle и Stan."
   ]
  }
 ],
 "metadata": {
  "kernelspec": {
   "display_name": "Python 3",
   "language": "python",
   "name": "python3"
  },
  "language_info": {
   "codemirror_mode": {
    "name": "ipython",
    "version": 3
   },
   "file_extension": ".py",
   "mimetype": "text/x-python",
   "name": "python",
   "nbconvert_exporter": "python",
   "pygments_lexer": "ipython3",
   "version": "3.6.0"
  }
 },
 "nbformat": 4,
 "nbformat_minor": 2
}
