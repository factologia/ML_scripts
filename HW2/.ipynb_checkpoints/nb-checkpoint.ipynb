{
 "cells": [
  {
   "cell_type": "code",
   "execution_count": 535,
   "metadata": {
    "collapsed": true
   },
   "outputs": [],
   "source": [
    "import pandas, re\n",
    "import numpy as np\n",
    "import string\n",
    "import nltk\n",
    "import matplotlib.pyplot as plt\n",
    "from nltk import word_tokenize\n",
    "from nltk.tokenize import RegexpTokenizer\n",
    "from nltk.stem.lancaster import LancasterStemmer\n",
    "from nltk.stem.wordnet import WordNetLemmatizer\n",
    "from nltk.corpus import stopwords\n",
    "from sklearn.feature_extraction.text import CountVectorizer, TfidfVectorizer\n",
    "from sklearn.naive_bayes import MultinomialNB\n",
    "from sklearn.model_selection import cross_val_score, train_test_split, learning_curve\n",
    "from sklearn.metrics import classification_report, roc_curve, auc\n",
    "from sklearn.tree import DecisionTreeClassifier\n",
    "from sklearn.ensemble import RandomForestClassifier\n",
    "from collections import Counter\n",
    "%matplotlib inline"
   ]
  },
  {
   "cell_type": "code",
   "execution_count": 536,
   "metadata": {
    "collapsed": false,
    "scrolled": false
   },
   "outputs": [
    {
     "data": {
      "text/html": [
       "<div>\n",
       "<table border=\"1\" class=\"dataframe\">\n",
       "  <thead>\n",
       "    <tr style=\"text-align: right;\">\n",
       "      <th></th>\n",
       "      <th>label</th>\n",
       "      <th>message</th>\n",
       "    </tr>\n",
       "  </thead>\n",
       "  <tbody>\n",
       "    <tr>\n",
       "      <th>0</th>\n",
       "      <td>ham</td>\n",
       "      <td>Go until jurong point, crazy.. Available only ...</td>\n",
       "    </tr>\n",
       "    <tr>\n",
       "      <th>1</th>\n",
       "      <td>ham</td>\n",
       "      <td>Ok lar... Joking wif u oni...</td>\n",
       "    </tr>\n",
       "    <tr>\n",
       "      <th>2</th>\n",
       "      <td>spam</td>\n",
       "      <td>Free entry in 2 a wkly comp to win FA Cup fina...</td>\n",
       "    </tr>\n",
       "    <tr>\n",
       "      <th>3</th>\n",
       "      <td>ham</td>\n",
       "      <td>U dun say so early hor... U c already then say...</td>\n",
       "    </tr>\n",
       "    <tr>\n",
       "      <th>4</th>\n",
       "      <td>ham</td>\n",
       "      <td>Nah I don't think he goes to usf, he lives aro...</td>\n",
       "    </tr>\n",
       "  </tbody>\n",
       "</table>\n",
       "</div>"
      ],
      "text/plain": [
       "  label                                            message\n",
       "0   ham  Go until jurong point, crazy.. Available only ...\n",
       "1   ham                      Ok lar... Joking wif u oni...\n",
       "2  spam  Free entry in 2 a wkly comp to win FA Cup fina...\n",
       "3   ham  U dun say so early hor... U c already then say...\n",
       "4   ham  Nah I don't think he goes to usf, he lives aro..."
      ]
     },
     "execution_count": 536,
     "metadata": {},
     "output_type": "execute_result"
    }
   ],
   "source": [
    "messages = pandas.read_csv('SMSSpamCollection', sep='\\t',\n",
    "                           names=[\"label\", \"message\"])\n",
    "messages.head()"
   ]
  },
  {
   "cell_type": "markdown",
   "metadata": {},
   "source": [
    "1(+6). Проверить, сбалансирован ли датасет (может быть, наблюдений одного класса слишком много?). Какие результаты покажет dummy classifier, который будет всем новым наблюдениям присваивать класс ham? Насколько плохо такое решение для задачи определения спама?"
   ]
  },
  {
   "cell_type": "code",
   "execution_count": 537,
   "metadata": {
    "collapsed": false
   },
   "outputs": [
    {
     "data": {
      "text/html": [
       "<div>\n",
       "<table border=\"1\" class=\"dataframe\">\n",
       "  <thead>\n",
       "    <tr style=\"text-align: right;\">\n",
       "      <th></th>\n",
       "      <th></th>\n",
       "      <th>message</th>\n",
       "    </tr>\n",
       "    <tr>\n",
       "      <th>label</th>\n",
       "      <th></th>\n",
       "      <th></th>\n",
       "    </tr>\n",
       "  </thead>\n",
       "  <tbody>\n",
       "    <tr>\n",
       "      <th rowspan=\"4\" valign=\"top\">ham</th>\n",
       "      <th>count</th>\n",
       "      <td>4825</td>\n",
       "    </tr>\n",
       "    <tr>\n",
       "      <th>unique</th>\n",
       "      <td>4516</td>\n",
       "    </tr>\n",
       "    <tr>\n",
       "      <th>top</th>\n",
       "      <td>Sorry, I'll call later</td>\n",
       "    </tr>\n",
       "    <tr>\n",
       "      <th>freq</th>\n",
       "      <td>30</td>\n",
       "    </tr>\n",
       "    <tr>\n",
       "      <th rowspan=\"4\" valign=\"top\">spam</th>\n",
       "      <th>count</th>\n",
       "      <td>747</td>\n",
       "    </tr>\n",
       "    <tr>\n",
       "      <th>unique</th>\n",
       "      <td>653</td>\n",
       "    </tr>\n",
       "    <tr>\n",
       "      <th>top</th>\n",
       "      <td>Please call our customer service representativ...</td>\n",
       "    </tr>\n",
       "    <tr>\n",
       "      <th>freq</th>\n",
       "      <td>4</td>\n",
       "    </tr>\n",
       "  </tbody>\n",
       "</table>\n",
       "</div>"
      ],
      "text/plain": [
       "                                                        message\n",
       "label                                                          \n",
       "ham   count                                                4825\n",
       "      unique                                               4516\n",
       "      top                                Sorry, I'll call later\n",
       "      freq                                                   30\n",
       "spam  count                                                 747\n",
       "      unique                                                653\n",
       "      top     Please call our customer service representativ...\n",
       "      freq                                                    4"
      ]
     },
     "execution_count": 537,
     "metadata": {},
     "output_type": "execute_result"
    }
   ],
   "source": [
    "messages.groupby('label').describe()"
   ]
  },
  {
   "cell_type": "code",
   "execution_count": 538,
   "metadata": {
    "collapsed": false
   },
   "outputs": [
    {
     "data": {
      "text/plain": [
       "label      0.865937\n",
       "message    0.865937\n",
       "dtype: float64"
      ]
     },
     "execution_count": 538,
     "metadata": {},
     "output_type": "execute_result"
    }
   ],
   "source": [
    "messages[messages['label']=='ham'].count() / messages.count()"
   ]
  },
  {
   "cell_type": "raw",
   "metadata": {},
   "source": [
    "Датасет не сбалансирован. \n",
    "Качество dummy classifier составит примерно 87%. \n",
    "Dummy classifier чрезвычайно плох для задачи определения спама, потому что precision и recall по спаму будет нулевым. А наша задача как раз отловить весь спам. "
   ]
  },
  {
   "cell_type": "markdown",
   "metadata": {},
   "source": [
    "Грубое решение - включить в training set только необходимое число наблюдений (примерно поровну spam и ham). "
   ]
  },
  {
   "cell_type": "markdown",
   "metadata": {},
   "source": [
    "Extra: ограничив количество наблюдений ham в обучающей выборке, мы игнорируем довольно много данных. 1) В цикле: случайно выбрать нужное число писем ham и сконструировать сбалансированную выборку, построить классификатор, оценить и записать результат; в итоге результаты усреднить. 2) поможет ли параметр class prior probability?"
   ]
  },
  {
   "cell_type": "raw",
   "metadata": {},
   "source": [
    "Class prior probability должно помочь, потому что параметр дает понять модели, что классы несбалансированы и подсказывает, с какой вероятностью можно встретить какой класс. (Но я попробовала установить этот параметр, не особо помогло. Наверное, есть какие-то еще нюансы)."
   ]
  },
  {
   "cell_type": "code",
   "execution_count": 539,
   "metadata": {
    "collapsed": false,
    "scrolled": false
   },
   "outputs": [
    {
     "data": {
      "text/html": [
       "<div>\n",
       "<table border=\"1\" class=\"dataframe\">\n",
       "  <thead>\n",
       "    <tr style=\"text-align: right;\">\n",
       "      <th></th>\n",
       "      <th></th>\n",
       "      <th>message</th>\n",
       "    </tr>\n",
       "    <tr>\n",
       "      <th>label</th>\n",
       "      <th></th>\n",
       "      <th></th>\n",
       "    </tr>\n",
       "  </thead>\n",
       "  <tbody>\n",
       "    <tr>\n",
       "      <th rowspan=\"4\" valign=\"top\">ham</th>\n",
       "      <th>count</th>\n",
       "      <td>747</td>\n",
       "    </tr>\n",
       "    <tr>\n",
       "      <th>unique</th>\n",
       "      <td>736</td>\n",
       "    </tr>\n",
       "    <tr>\n",
       "      <th>top</th>\n",
       "      <td>I cant pick the phone right now. Pls send a me...</td>\n",
       "    </tr>\n",
       "    <tr>\n",
       "      <th>freq</th>\n",
       "      <td>4</td>\n",
       "    </tr>\n",
       "    <tr>\n",
       "      <th rowspan=\"4\" valign=\"top\">spam</th>\n",
       "      <th>count</th>\n",
       "      <td>747</td>\n",
       "    </tr>\n",
       "    <tr>\n",
       "      <th>unique</th>\n",
       "      <td>653</td>\n",
       "    </tr>\n",
       "    <tr>\n",
       "      <th>top</th>\n",
       "      <td>Please call our customer service representativ...</td>\n",
       "    </tr>\n",
       "    <tr>\n",
       "      <th>freq</th>\n",
       "      <td>4</td>\n",
       "    </tr>\n",
       "  </tbody>\n",
       "</table>\n",
       "</div>"
      ],
      "text/plain": [
       "                                                        message\n",
       "label                                                          \n",
       "ham   count                                                 747\n",
       "      unique                                                736\n",
       "      top     I cant pick the phone right now. Pls send a me...\n",
       "      freq                                                    4\n",
       "spam  count                                                 747\n",
       "      unique                                                653\n",
       "      top     Please call our customer service representativ...\n",
       "      freq                                                    4"
      ]
     },
     "execution_count": 539,
     "metadata": {},
     "output_type": "execute_result"
    }
   ],
   "source": [
    "train = pandas.concat([messages[messages['label']=='ham'].sample(frac=1)[:747], messages[messages['label']=='spam']]).sample(frac=1)\n",
    "train.groupby('label').describe()"
   ]
  },
  {
   "cell_type": "markdown",
   "metadata": {},
   "source": [
    "Нормализовать тексты и обучить байесовскую модель (bag of words). Проверить, как влияют на результат:"
   ]
  },
  {
   "cell_type": "code",
   "execution_count": 540,
   "metadata": {
    "collapsed": false,
    "scrolled": false
   },
   "outputs": [
    {
     "data": {
      "text/html": [
       "<div>\n",
       "<table border=\"1\" class=\"dataframe\">\n",
       "  <thead>\n",
       "    <tr style=\"text-align: right;\">\n",
       "      <th></th>\n",
       "      <th></th>\n",
       "      <th>message</th>\n",
       "    </tr>\n",
       "    <tr>\n",
       "      <th>label</th>\n",
       "      <th></th>\n",
       "      <th></th>\n",
       "    </tr>\n",
       "  </thead>\n",
       "  <tbody>\n",
       "    <tr>\n",
       "      <th rowspan=\"4\" valign=\"top\">ham</th>\n",
       "      <th>count</th>\n",
       "      <td>747</td>\n",
       "    </tr>\n",
       "    <tr>\n",
       "      <th>unique</th>\n",
       "      <td>736</td>\n",
       "    </tr>\n",
       "    <tr>\n",
       "      <th>top</th>\n",
       "      <td>Arun can u transfr me d amt</td>\n",
       "    </tr>\n",
       "    <tr>\n",
       "      <th>freq</th>\n",
       "      <td>2</td>\n",
       "    </tr>\n",
       "    <tr>\n",
       "      <th rowspan=\"4\" valign=\"top\">spam</th>\n",
       "      <th>count</th>\n",
       "      <td>747</td>\n",
       "    </tr>\n",
       "    <tr>\n",
       "      <th>unique</th>\n",
       "      <td>653</td>\n",
       "    </tr>\n",
       "    <tr>\n",
       "      <th>top</th>\n",
       "      <td>Please call our customer service representativ...</td>\n",
       "    </tr>\n",
       "    <tr>\n",
       "      <th>freq</th>\n",
       "      <td>4</td>\n",
       "    </tr>\n",
       "  </tbody>\n",
       "</table>\n",
       "</div>"
      ],
      "text/plain": [
       "                                                        message\n",
       "label                                                          \n",
       "ham   count                                                 747\n",
       "      unique                                                736\n",
       "      top                           Arun can u transfr me d amt\n",
       "      freq                                                    2\n",
       "spam  count                                                 747\n",
       "      unique                                                653\n",
       "      top     Please call our customer service representativ...\n",
       "      freq                                                    4"
      ]
     },
     "execution_count": 540,
     "metadata": {},
     "output_type": "execute_result"
    }
   ],
   "source": [
    "train = pandas.concat([messages[messages['label']=='ham'].sample(frac=1)[:747], messages[messages['label']=='spam']]).sample(frac=1)\n",
    "train.groupby('label').describe()"
   ]
  },
  {
   "cell_type": "code",
   "execution_count": 541,
   "metadata": {
    "collapsed": false,
    "scrolled": true
   },
   "outputs": [],
   "source": [
    "mnb = MultinomialNB()"
   ]
  },
  {
   "cell_type": "code",
   "execution_count": 542,
   "metadata": {
    "collapsed": true
   },
   "outputs": [],
   "source": [
    "# mnb2 = MultinomialNB(class_prior=[0.13, 0.87])"
   ]
  },
  {
   "cell_type": "code",
   "execution_count": 543,
   "metadata": {
    "collapsed": false
   },
   "outputs": [],
   "source": [
    "def bow_function(data, target, tokenizer, stop=None, mn=0.0, mx=1.0):\n",
    "    bow = CountVectorizer(analyzer='word',\n",
    "                          tokenizer=tokenizer, \n",
    "                          stop_words=stop, \n",
    "                          max_df=mx, \n",
    "                          min_df=mn)\n",
    "    bowed = bow.fit_transform(data)\n",
    "    return bowed"
   ]
  },
  {
   "cell_type": "code",
   "execution_count": 544,
   "metadata": {
    "collapsed": true
   },
   "outputs": [],
   "source": [
    "def tf_idf_function(data, target, tokenizer, stop=None, mn=0.0, mx=1.0, nrm=None):\n",
    "    bow = TfidfVectorizer(analyzer='word',\n",
    "                          tokenizer=tokenizer, \n",
    "                          stop_words=stop, \n",
    "                          max_df=mx, \n",
    "                          min_df=mn,\n",
    "                          norm=nrm)\n",
    "    bowed = bow.fit_transform(data)\n",
    "    return bowed"
   ]
  },
  {
   "cell_type": "code",
   "execution_count": 545,
   "metadata": {
    "collapsed": true
   },
   "outputs": [],
   "source": [
    "def cv(data, target):\n",
    "    mnb.fit(bowed, target)\n",
    "    \n",
    "    cv_results_recall = cross_val_score(mnb, bowed, target, cv=10, scoring='recall_macro')\n",
    "    cv_results_precision = cross_val_score(mnb, bowed, target, cv=10, scoring='precision_macro')\n",
    "\n",
    "    print('Precision: ', cv_results_precision.mean().round(3),\n",
    "          '\\nRecall: ', cv_results_recall.mean().round(3))"
   ]
  },
  {
   "cell_type": "code",
   "execution_count": 546,
   "metadata": {
    "collapsed": false
   },
   "outputs": [],
   "source": [
    "# bowed = bow_function(messages.message, messages.label, None)\n",
    "# cv(mnb2, bowed, messages.label)"
   ]
  },
  {
   "cell_type": "markdown",
   "metadata": {},
   "source": [
    "4) векторизация документов (CountVectorizer vs. TfIdfVectorizer);"
   ]
  },
  {
   "cell_type": "code",
   "execution_count": 547,
   "metadata": {
    "collapsed": false
   },
   "outputs": [
    {
     "name": "stdout",
     "output_type": "stream",
     "text": [
      "Precision:  0.967 \n",
      "Recall:  0.966\n"
     ]
    }
   ],
   "source": [
    "bowed = bow_function(train.message, train.label, None)\n",
    "cv(bowed, train.label)"
   ]
  },
  {
   "cell_type": "code",
   "execution_count": 548,
   "metadata": {
    "collapsed": false
   },
   "outputs": [
    {
     "name": "stdout",
     "output_type": "stream",
     "text": [
      "Precision:  0.965 \n",
      "Recall:  0.964\n"
     ]
    }
   ],
   "source": [
    "bowed = tf_idf_function(train.message, train.label, None)\n",
    "cv(bowed, train.label)"
   ]
  },
  {
   "cell_type": "raw",
   "metadata": {},
   "source": [
    "Векторизация CountVectorizer показывает лучшее качество и полноту, но в виду осоенностей нормализации (мы включаем и исключаем токены) имеет смысл пробовать дальше два разных способа векторизации."
   ]
  },
  {
   "cell_type": "markdown",
   "metadata": {},
   "source": [
    "1) разная токенизация: в одном случае знаки препинания удалять, в другом — считать их токенами;"
   ]
  },
  {
   "cell_type": "raw",
   "metadata": {},
   "source": [
    "Токенизация"
   ]
  },
  {
   "cell_type": "code",
   "execution_count": 549,
   "metadata": {
    "collapsed": false,
    "scrolled": true
   },
   "outputs": [
    {
     "name": "stdout",
     "output_type": "stream",
     "text": [
      "Precision:  0.957 \n",
      "Recall:  0.956\n"
     ]
    }
   ],
   "source": [
    "bowed = bow_function(train.message, train.label, word_tokenize)\n",
    "cv(bowed, train.label)"
   ]
  },
  {
   "cell_type": "code",
   "execution_count": 550,
   "metadata": {
    "collapsed": false
   },
   "outputs": [
    {
     "name": "stdout",
     "output_type": "stream",
     "text": [
      "Precision:  0.957 \n",
      "Recall:  0.955\n"
     ]
    }
   ],
   "source": [
    "bowed = tf_idf_function(train.message, train.label, word_tokenize)\n",
    "cv(bowed, train.label)"
   ]
  },
  {
   "cell_type": "raw",
   "metadata": {},
   "source": [
    "Токенизация в моделях лучше, чем токенизация, предложенная нами."
   ]
  },
  {
   "cell_type": "raw",
   "metadata": {},
   "source": [
    "Токенизация с удалением пунктуации"
   ]
  },
  {
   "cell_type": "code",
   "execution_count": 551,
   "metadata": {
    "collapsed": false
   },
   "outputs": [
    {
     "name": "stdout",
     "output_type": "stream",
     "text": [
      "Precision:  0.967 \n",
      "Recall:  0.966\n"
     ]
    }
   ],
   "source": [
    "bowed = bow_function(train.message, train.label, RegexpTokenizer(r'\\w+').tokenize)\n",
    "cv(bowed, train.label)"
   ]
  },
  {
   "cell_type": "code",
   "execution_count": 552,
   "metadata": {
    "collapsed": false
   },
   "outputs": [
    {
     "name": "stdout",
     "output_type": "stream",
     "text": [
      "Precision:  0.966 \n",
      "Recall:  0.964\n"
     ]
    }
   ],
   "source": [
    "bowed = tf_idf_function(train.message, train.label, RegexpTokenizer(r'\\w+').tokenize)\n",
    "cv(bowed, train.label)"
   ]
  },
  {
   "cell_type": "raw",
   "metadata": {},
   "source": [
    "Удаление пунктуации довольно сильно улучшает качество модели, поэтому далее будем экспериментировать над данными с удаленными знаками препинания. CountVectorizer лучше справляется при входных данных без пунктурации, чем tf-idf."
   ]
  },
  {
   "cell_type": "markdown",
   "metadata": {},
   "source": [
    "2) лемматизация (отсутствие лемматизации, стемминг, лемматизация; инструменты можно использовать любые, например, nltk.stem);"
   ]
  },
  {
   "cell_type": "raw",
   "metadata": {},
   "source": [
    "Стемминг"
   ]
  },
  {
   "cell_type": "code",
   "execution_count": 553,
   "metadata": {
    "collapsed": false
   },
   "outputs": [],
   "source": [
    "train['stem'] = train.message.apply(LancasterStemmer().stem)"
   ]
  },
  {
   "cell_type": "code",
   "execution_count": 554,
   "metadata": {
    "collapsed": false
   },
   "outputs": [
    {
     "name": "stdout",
     "output_type": "stream",
     "text": [
      "Precision:  0.965 \n",
      "Recall:  0.964\n"
     ]
    }
   ],
   "source": [
    "bowed = bow_function(train.stem, train.label, RegexpTokenizer(r'\\w+').tokenize)\n",
    "cv(bowed, train.label)"
   ]
  },
  {
   "cell_type": "code",
   "execution_count": 555,
   "metadata": {
    "collapsed": false
   },
   "outputs": [
    {
     "name": "stdout",
     "output_type": "stream",
     "text": [
      "Precision:  0.966 \n",
      "Recall:  0.964\n"
     ]
    }
   ],
   "source": [
    "bowed = tf_idf_function(train.stem, train.label, RegexpTokenizer(r'\\w+').tokenize)\n",
    "cv(bowed, train.label)"
   ]
  },
  {
   "cell_type": "raw",
   "metadata": {},
   "source": [
    "Стемминг не дал сильного улучшения (countvectorizer показал небольшой откат в качестве и полноте, tf-idf не изменился), поэтому попробуем лемминг."
   ]
  },
  {
   "cell_type": "raw",
   "metadata": {},
   "source": [
    "Лемминг"
   ]
  },
  {
   "cell_type": "code",
   "execution_count": 560,
   "metadata": {
    "collapsed": false
   },
   "outputs": [],
   "source": [
    "train['lem'] = train.message.apply(WordNetLemmatizer().lemmatize)"
   ]
  },
  {
   "cell_type": "code",
   "execution_count": 561,
   "metadata": {
    "collapsed": false
   },
   "outputs": [
    {
     "name": "stdout",
     "output_type": "stream",
     "text": [
      "Precision:  0.967 \n",
      "Recall:  0.966\n"
     ]
    }
   ],
   "source": [
    "bowed = bow_function(train.lem, train.label, RegexpTokenizer(r'\\w+').tokenize)\n",
    "cv(bowed, train.label)"
   ]
  },
  {
   "cell_type": "code",
   "execution_count": 562,
   "metadata": {
    "collapsed": false
   },
   "outputs": [
    {
     "name": "stdout",
     "output_type": "stream",
     "text": [
      "Precision:  0.966 \n",
      "Recall:  0.964\n"
     ]
    }
   ],
   "source": [
    "bowed = tf_idf_function(train.lem, train.label, RegexpTokenizer(r'\\w+').tokenize)\n",
    "cv(bowed, train.label)"
   ]
  },
  {
   "cell_type": "raw",
   "metadata": {},
   "source": [
    "Лемминг не улучшил качество по сравнению с отсутствием лемминга. Можно оставить лемминг, чтобы чувствовать себя тру лингвистом."
   ]
  },
  {
   "cell_type": "markdown",
   "metadata": {
    "collapsed": true
   },
   "source": [
    "3) удаление стоп-слов, а также пороги минимальной и максимальной document frequency;"
   ]
  },
  {
   "cell_type": "code",
   "execution_count": 563,
   "metadata": {
    "collapsed": true
   },
   "outputs": [],
   "source": [
    "stop = set(stopwords.words('english'))"
   ]
  },
  {
   "cell_type": "code",
   "execution_count": 564,
   "metadata": {
    "collapsed": false
   },
   "outputs": [
    {
     "name": "stdout",
     "output_type": "stream",
     "text": [
      "Precision:  0.963 \n",
      "Recall:  0.962\n"
     ]
    }
   ],
   "source": [
    "bowed = bow_function(train.lem, train.label, RegexpTokenizer(r'\\w+').tokenize, stop)\n",
    "cv(bowed, train.label)"
   ]
  },
  {
   "cell_type": "code",
   "execution_count": 565,
   "metadata": {
    "collapsed": false
   },
   "outputs": [
    {
     "name": "stdout",
     "output_type": "stream",
     "text": [
      "Precision:  0.958 \n",
      "Recall:  0.957\n"
     ]
    }
   ],
   "source": [
    "bowed = tf_idf_function(train.lem, train.label, RegexpTokenizer(r'\\w+').tokenize, stop)\n",
    "cv(bowed, train.label)"
   ]
  },
  {
   "cell_type": "raw",
   "metadata": {},
   "source": [
    "Удаление стоп-слов сильно ухудшает качество. Откажемся от них."
   ]
  },
  {
   "cell_type": "raw",
   "metadata": {},
   "source": [
    "Пороги"
   ]
  },
  {
   "cell_type": "code",
   "execution_count": 576,
   "metadata": {
    "collapsed": false
   },
   "outputs": [
    {
     "name": "stdout",
     "output_type": "stream",
     "text": [
      "Precision:  0.967 \n",
      "Recall:  0.966\n"
     ]
    }
   ],
   "source": [
    "bowed = bow_function(train.lem, train.label, RegexpTokenizer(r'\\w+').tokenize, mn=0.0, mx=0.5)\n",
    "cv(bowed, train.label)"
   ]
  },
  {
   "cell_type": "code",
   "execution_count": 573,
   "metadata": {
    "collapsed": false
   },
   "outputs": [
    {
     "name": "stdout",
     "output_type": "stream",
     "text": [
      "Precision:  0.967 \n",
      "Recall:  0.965\n"
     ]
    }
   ],
   "source": [
    "bowed = tf_idf_function(train.lem, train.label, RegexpTokenizer(r'\\w+').tokenize, mn=0.0001, mx=0.3)\n",
    "cv(bowed, train.label)"
   ]
  },
  {
   "cell_type": "raw",
   "metadata": {},
   "source": [
    "При уменьшении максимального порога документной частоты countvectorizer только ухудшает качество, tf-idf показывает улучшенное качество при 0.3\n",
    "При увеличении минимального порога документной частоты countvectorizer только ухудшает качество, tf-idf показывает улучшенное качество при 0.0001, что сопоставимо с результатом по countvectorizer.\n",
    "Для tf-idf можно поменять параметр нормализации векторов термов."
   ]
  },
  {
   "cell_type": "raw",
   "metadata": {},
   "source": [
    "Нормализация векторов"
   ]
  },
  {
   "cell_type": "code",
   "execution_count": 577,
   "metadata": {
    "collapsed": false
   },
   "outputs": [
    {
     "name": "stdout",
     "output_type": "stream",
     "text": [
      "Precision:  0.956 \n",
      "Recall:  0.954\n"
     ]
    }
   ],
   "source": [
    "bowed = tf_idf_function(train.lem, train.label, RegexpTokenizer(r'\\w+').tokenize, mn=0.001, mx=0.4, nrm='l1')\n",
    "cv(bowed, train.label)"
   ]
  },
  {
   "cell_type": "code",
   "execution_count": 578,
   "metadata": {
    "collapsed": false
   },
   "outputs": [
    {
     "name": "stdout",
     "output_type": "stream",
     "text": [
      "Precision:  0.961 \n",
      "Recall:  0.96\n"
     ]
    }
   ],
   "source": [
    "bowed = tf_idf_function(train.lem, train.label, RegexpTokenizer(r'\\w+').tokenize, mn=0.001, mx=0.4, nrm='l2')\n",
    "cv(bowed, train.label)"
   ]
  },
  {
   "cell_type": "raw",
   "metadata": {},
   "source": [
    "Ни нормализация l1, ни нормализация l2 не приводит к улучшению качества, только ухудшает его."
   ]
  },
  {
   "cell_type": "raw",
   "metadata": {},
   "source": [
    "Таким образом, будут использованы следующие нормализованные данные:\n",
    "1) CountVectorizer\n",
    "2) Токенизация с удалением пунктуации\n",
    "3) Лемминг (ну такое)\n",
    "4) Минимальная документная частота = 0.0\n",
    "5) Максимальная документная частота = 0.5\n",
    "6) Стоп-слова не выбрасываются"
   ]
  },
  {
   "cell_type": "markdown",
   "metadata": {},
   "source": [
    "При оценке классификатора обратите внимание на TP и FP."
   ]
  },
  {
   "cell_type": "markdown",
   "metadata": {},
   "source": [
    "2(+2). Сравнить результаты байесовского классификатора, решающего дерева и RandomForest. Помимо стандартных метрик оценки качества модели, необходимо построить learning curve, ROC-curve, classification report и интерпретировать эти результаты."
   ]
  },
  {
   "cell_type": "code",
   "execution_count": 579,
   "metadata": {
    "collapsed": false
   },
   "outputs": [],
   "source": [
    "def plot_learning_curve(estimator, title, X=msg_train, y=label_train, ylim=None, cv=5,\n",
    "                        n_jobs=1, train_sizes=np.linspace(.1, 1.0, 5)):\n",
    "    plt.figure()\n",
    "    plt.title(title)\n",
    "    if ylim is not None:\n",
    "        plt.ylim(*ylim)\n",
    "    plt.xlabel(\"Training examples\")\n",
    "    plt.ylabel(\"Score\")\n",
    "    train_sizes, train_scores, test_scores = learning_curve(\n",
    "        estimator, X, y, cv=cv, n_jobs=n_jobs, train_sizes=train_sizes)\n",
    "    train_scores_mean = np.mean(train_scores, axis=1)\n",
    "    train_scores_std = np.std(train_scores, axis=1)\n",
    "    test_scores_mean = np.mean(test_scores, axis=1)\n",
    "    test_scores_std = np.std(test_scores, axis=1)\n",
    "    plt.grid()\n",
    "\n",
    "    plt.fill_between(train_sizes, train_scores_mean - train_scores_std,\n",
    "                     train_scores_mean + train_scores_std, alpha=0.1,\n",
    "                     color=\"r\")\n",
    "    plt.fill_between(train_sizes, test_scores_mean - test_scores_std,\n",
    "                     test_scores_mean + test_scores_std, alpha=0.1, color=\"g\")\n",
    "    plt.plot(train_sizes, train_scores_mean, 'o-', color=\"r\",\n",
    "             label=\"Training score\")\n",
    "    plt.plot(train_sizes, test_scores_mean, 'o-', color=\"g\",\n",
    "             label=\"Cross-validation score\")\n",
    "\n",
    "    plt.legend(loc=\"best\")\n",
    "    return plt"
   ]
  },
  {
   "cell_type": "code",
   "execution_count": 580,
   "metadata": {
    "collapsed": true
   },
   "outputs": [],
   "source": [
    "def plotting_roc_curve(clf, title):\n",
    "    probas_ = clf.fit(msg_train, label_train).predict_proba(msg_test)\n",
    "    fpr, tpr, thresholds = roc_curve(label_test, probas_[:, 1], pos_label='spam')\n",
    "    plt.figure()\n",
    "    plt.title(title)\n",
    "    plt.xlabel(\"FP\")\n",
    "    plt.ylabel(\"TP\")\n",
    "    roc_auc = auc(fpr, tpr)\n",
    "    plt.plot(fpr, tpr)"
   ]
  },
  {
   "cell_type": "code",
   "execution_count": 581,
   "metadata": {
    "collapsed": false
   },
   "outputs": [],
   "source": [
    "def whole_analysis(clf):\n",
    "    bowed = bow_function(train.lem, train.label, RegexpTokenizer(r'\\w+').tokenize, mn=0.0, mx=0.5)\n",
    "    \n",
    "    msg_train, msg_test, label_train, label_test = train_test_split(bowed, train['label'], test_size=0.2)\n",
    "    \n",
    "    clf.fit(msg_train, label_train)\n",
    "    \n",
    "    scores = cross_val_score(clf, msg_train, label_train, cv=10)\n",
    "    print('Cross val score:', np.mean(scores))\n",
    "    \n",
    "    preds = clf.predict(msg_test)\n",
    "    print(classification_report(label_test, preds))\n",
    "    \n",
    "    plot_learning_curve(clf, \"Learning Curves -- MultinomialNB\")\n",
    "    \n",
    "    plotting_roc_curve(clf, 'ROC curve -- MultinomialNB')"
   ]
  },
  {
   "cell_type": "raw",
   "metadata": {},
   "source": [
    "Multionomial Naive Bayes"
   ]
  },
  {
   "cell_type": "code",
   "execution_count": 582,
   "metadata": {
    "collapsed": false
   },
   "outputs": [
    {
     "name": "stdout",
     "output_type": "stream",
     "text": [
      "Cross val score: 0.964845938375\n",
      "             precision    recall  f1-score   support\n",
      "\n",
      "        ham       0.96      0.99      0.97       152\n",
      "       spam       0.99      0.95      0.97       147\n",
      "\n",
      "avg / total       0.97      0.97      0.97       299\n",
      "\n"
     ]
    },
    {
     "data": {
      "image/png": "[encoded data removed]",
      "text/plain": [
       "<matplotlib.figure.Figure at 0x13d51cc0fd0>"
      ]
     },
     "metadata": {},
     "output_type": "display_data"
    },
    {
     "data": {
      "image/png": "[encoded data removed]",
      "text/plain": [
       "<matplotlib.figure.Figure at 0x13d540bd240>"
      ]
     },
     "metadata": {},
     "output_type": "display_data"
    }
   ],
   "source": [
    "whole_analysis(mnb)"
   ]
  },
  {
   "cell_type": "raw",
   "metadata": {},
   "source": [
    "Качество модели довольно выское. \n",
    "Точность определения спама 99% и спам отлавливается в 95% случаев.\n",
    "\n",
    "На кросс валидации обучаемость постепенно снижается.\n",
    "Для обычного обучения модели обучаемость на с количеством примеров медленно возрастает (но в начале был виден резкий спад).\n",
    "\n",
    "ROC-кривая находится над прямой y=x.\n",
    "Значит истинно положительных результатов больше, чем ложно положительных.\n",
    "Площадь под кривой довольно большая, значит модель показывает себя хорошо."
   ]
  },
  {
   "cell_type": "raw",
   "metadata": {},
   "source": [
    "DecisionTree"
   ]
  },
  {
   "cell_type": "code",
   "execution_count": 583,
   "metadata": {
    "collapsed": false,
    "scrolled": false
   },
   "outputs": [
    {
     "name": "stdout",
     "output_type": "stream",
     "text": [
      "Cross val score: 0.929738928629\n",
      "             precision    recall  f1-score   support\n",
      "\n",
      "        ham       0.86      0.92      0.89       145\n",
      "       spam       0.92      0.86      0.89       154\n",
      "\n",
      "avg / total       0.89      0.89      0.89       299\n",
      "\n"
     ]
    },
    {
     "data": {
      "image/png": "[encoded data removed]",
      "text/plain": [
       "<matplotlib.figure.Figure at 0x13d54210898>"
      ]
     },
     "metadata": {},
     "output_type": "display_data"
    },
    {
     "data": {
      "image/png": "[encoded data removed]",
      "text/plain": [
       "<matplotlib.figure.Figure at 0x13d53d41908>"
      ]
     },
     "metadata": {},
     "output_type": "display_data"
    }
   ],
   "source": [
    "dt = DecisionTreeClassifier(random_state=42)\n",
    "whole_analysis(dt)"
   ]
  },
  {
   "cell_type": "raw",
   "metadata": {},
   "source": [
    "Качество модели довольно выское. \n",
    "Точность определения спама 92% и спам отлавливается в 86% случаев.\n",
    "\n",
    "На кросс валидации обучаемость постепенно увеличивается.\n",
    "Для обычного обучения модели что-то сломалось :( (не может же быть на ста примерах единица при условии, что качество модели страдает).\n",
    "\n",
    "ROC-кривая находится над прямой y=x.\n",
    "Значит истинно положительных результатов больше, чем ложно положительных.\n",
    "Площадь под кривой довольно большая, значит модель показывает себя хорошо.\n",
    "Но, может быть, резкий угол говорит о какой-то поломке :("
   ]
  },
  {
   "cell_type": "raw",
   "metadata": {},
   "source": [
    "RandomForest"
   ]
  },
  {
   "cell_type": "code",
   "execution_count": 522,
   "metadata": {
    "collapsed": false
   },
   "outputs": [
    {
     "name": "stdout",
     "output_type": "stream",
     "text": [
      "Cross val score: 0.930530245156\n",
      "             precision    recall  f1-score   support\n",
      "\n",
      "        ham       0.93      0.99      0.96       164\n",
      "       spam       0.98      0.91      0.95       135\n",
      "\n",
      "avg / total       0.95      0.95      0.95       299\n",
      "\n"
     ]
    },
    {
     "data": {
      "image/png": "[encoded data removed]",
      "text/plain": [
       "<matplotlib.figure.Figure at 0x13d53c10550>"
      ]
     },
     "metadata": {},
     "output_type": "display_data"
    },
    {
     "data": {
      "image/png": "[encoded data removed]",
      "text/plain": [
       "<matplotlib.figure.Figure at 0x13d52a43160>"
      ]
     },
     "metadata": {},
     "output_type": "display_data"
    }
   ],
   "source": [
    "rf = RandomForestClassifier(random_state=42)\n",
    "whole_analysis(rf)"
   ]
  },
  {
   "cell_type": "raw",
   "metadata": {},
   "source": [
    "Качество модели довольно выское. \n",
    "Точность определения спама 98% и спам отлавливается в 91% случаев.\n",
    "\n",
    "На кросс валидации обучаемость постепенно увеличивется.\n",
    "Для обычного обучения модели обучаемость на с количеством примеров медленно уменьшается (но как так?).\n",
    "Качество на кросс валидации значительно ниже.\n",
    "\n",
    "ROC-кривая находится над прямой y=x.\n",
    "Значит истинно положительных результатов больше, чем ложно положительных.\n",
    "Площадь под кривой довольно большая, значит модель показывает себя хорошо.\n",
    "Но площадь гораздо меньше, чем у наивного Байеса или деревьев решений (если можно принимать во внимание тот график, а я думаю, что нельзя)."
   ]
  },
  {
   "cell_type": "markdown",
   "metadata": {},
   "source": [
    "3(+2). А что, если в качестве предикторов брать не количество вхождений слов, а конструировать специальные признаки? Прежде всего, необходимо разделить таблицу на training set и test set в соотношении 80:20, test set не открывать до этапа оценки модели. С помощью pandas проверить, отличаются ли перечисленные ниже параметры (иможно придумать другие) для разных классов (spam/ham), и собрать матрицу признаков для обучения. Примеры признаков: длина сообщения, количество букв в ВЕРХНЕМ РЕГИСТРЕ, восклицательных знаков, цифр, запятых, каких-то конкретных слов (для этого можно построить частотный словарь по сообщениям каждого класса). Прокомментировать свой выбор. Векторизовать документы и построить классификатор. Оценить модель на проверочной выборке."
   ]
  },
  {
   "cell_type": "code",
   "execution_count": 584,
   "metadata": {
    "collapsed": true
   },
   "outputs": [],
   "source": [
    "train['length'] = train['message'].map(lambda text: len(text))"
   ]
  },
  {
   "cell_type": "code",
   "execution_count": 585,
   "metadata": {
    "collapsed": false
   },
   "outputs": [],
   "source": [
    "bow = CountVectorizer()\n",
    "bow.fit_transform(messages[messages['label']=='spam']['message'])\n",
    "cntr = Counter(bow.vocabulary_.keys())\n",
    "spam_words = [el[0] for el in cntr.most_common(100)]"
   ]
  },
  {
   "cell_type": "code",
   "execution_count": 586,
   "metadata": {
    "collapsed": false
   },
   "outputs": [
    {
     "data": {
      "text/html": [
       "<div>\n",
       "<table border=\"1\" class=\"dataframe\">\n",
       "  <thead>\n",
       "    <tr style=\"text-align: right;\">\n",
       "      <th></th>\n",
       "      <th>label</th>\n",
       "      <th>message</th>\n",
       "      <th>stem</th>\n",
       "      <th>lem</th>\n",
       "      <th>length</th>\n",
       "      <th>LENGTH</th>\n",
       "      <th>excl</th>\n",
       "      <th>num</th>\n",
       "      <th>com</th>\n",
       "      <th>spam_words</th>\n",
       "    </tr>\n",
       "  </thead>\n",
       "  <tbody>\n",
       "    <tr>\n",
       "      <th>4931</th>\n",
       "      <td>spam</td>\n",
       "      <td>Hi, the SEXYCHAT girls are waiting for you to ...</td>\n",
       "      <td>hi, the sexychat girls are waiting for you to ...</td>\n",
       "      <td>Hi, the SEXYCHAT girls are waiting for you to ...</td>\n",
       "      <td>124</td>\n",
       "      <td>14</td>\n",
       "      <td>0</td>\n",
       "      <td>0</td>\n",
       "      <td>1</td>\n",
       "      <td>9</td>\n",
       "    </tr>\n",
       "    <tr>\n",
       "      <th>4368</th>\n",
       "      <td>ham</td>\n",
       "      <td>I like dis sweater fr mango but no more my siz...</td>\n",
       "      <td>i like dis sweater fr mango but no more my siz...</td>\n",
       "      <td>I like dis sweater fr mango but no more my siz...</td>\n",
       "      <td>70</td>\n",
       "      <td>1</td>\n",
       "      <td>0</td>\n",
       "      <td>0</td>\n",
       "      <td>0</td>\n",
       "      <td>3</td>\n",
       "    </tr>\n",
       "    <tr>\n",
       "      <th>2450</th>\n",
       "      <td>ham</td>\n",
       "      <td>Then she dun believe wat?</td>\n",
       "      <td>then she dun believe wat?</td>\n",
       "      <td>Then she dun believe wat?</td>\n",
       "      <td>25</td>\n",
       "      <td>1</td>\n",
       "      <td>0</td>\n",
       "      <td>0</td>\n",
       "      <td>0</td>\n",
       "      <td>0</td>\n",
       "    </tr>\n",
       "    <tr>\n",
       "      <th>5270</th>\n",
       "      <td>ham</td>\n",
       "      <td>Did u fix the teeth?if not do it asap.ok take ...</td>\n",
       "      <td>did u fix the teeth?if not do it asap.ok take ...</td>\n",
       "      <td>Did u fix the teeth?if not do it asap.ok take ...</td>\n",
       "      <td>51</td>\n",
       "      <td>1</td>\n",
       "      <td>0</td>\n",
       "      <td>0</td>\n",
       "      <td>0</td>\n",
       "      <td>2</td>\n",
       "    </tr>\n",
       "    <tr>\n",
       "      <th>5515</th>\n",
       "      <td>ham</td>\n",
       "      <td>You are a great role model. You are giving so ...</td>\n",
       "      <td>you are a great role model. you are giving so ...</td>\n",
       "      <td>You are a great role model. You are giving so ...</td>\n",
       "      <td>245</td>\n",
       "      <td>5</td>\n",
       "      <td>0</td>\n",
       "      <td>0</td>\n",
       "      <td>0</td>\n",
       "      <td>12</td>\n",
       "    </tr>\n",
       "  </tbody>\n",
       "</table>\n",
       "</div>"
      ],
      "text/plain": [
       "     label                                            message  \\\n",
       "4931  spam  Hi, the SEXYCHAT girls are waiting for you to ...   \n",
       "4368   ham  I like dis sweater fr mango but no more my siz...   \n",
       "2450   ham                          Then she dun believe wat?   \n",
       "5270   ham  Did u fix the teeth?if not do it asap.ok take ...   \n",
       "5515   ham  You are a great role model. You are giving so ...   \n",
       "\n",
       "                                                   stem  \\\n",
       "4931  hi, the sexychat girls are waiting for you to ...   \n",
       "4368  i like dis sweater fr mango but no more my siz...   \n",
       "2450                          then she dun believe wat?   \n",
       "5270  did u fix the teeth?if not do it asap.ok take ...   \n",
       "5515  you are a great role model. you are giving so ...   \n",
       "\n",
       "                                                    lem  length  LENGTH  excl  \\\n",
       "4931  Hi, the SEXYCHAT girls are waiting for you to ...     124      14     0   \n",
       "4368  I like dis sweater fr mango but no more my siz...      70       1     0   \n",
       "2450                          Then she dun believe wat?      25       1     0   \n",
       "5270  Did u fix the teeth?if not do it asap.ok take ...      51       1     0   \n",
       "5515  You are a great role model. You are giving so ...     245       5     0   \n",
       "\n",
       "      num  com  spam_words  \n",
       "4931    0    1           9  \n",
       "4368    0    0           3  \n",
       "2450    0    0           0  \n",
       "5270    0    0           2  \n",
       "5515    0    0          12  "
      ]
     },
     "execution_count": 586,
     "metadata": {},
     "output_type": "execute_result"
    }
   ],
   "source": [
    "caps = 'QWERTYUIOPASDFGHJKLZXCVBNM'\n",
    "numbers = '1234567890'\n",
    "arr_caps = []\n",
    "arr_excl = []\n",
    "arr_num = []\n",
    "arr_com = []\n",
    "arr_sw = []\n",
    "for el in train['message']:\n",
    "    i = 0\n",
    "    l = 0\n",
    "    n = 0\n",
    "    r = 0\n",
    "    s = 0\n",
    "    for letter in el:\n",
    "        if letter in caps:\n",
    "            i += 1\n",
    "        if letter == '!':\n",
    "            l += 1\n",
    "        if letter in numbers:\n",
    "            n += 1\n",
    "        if letter == ',':\n",
    "            r += 1\n",
    "    for word in el.split():\n",
    "        if re.sub('[-><.,!?/\\\"\\':;@#$%^&*\\)\\(=+~`]', '', word) in spam_words:\n",
    "            s += 1\n",
    "    arr_caps.append(i)\n",
    "    arr_excl.append(l)\n",
    "    arr_num.append(n)\n",
    "    arr_com.append(r)\n",
    "    arr_sw.append(s)\n",
    "train['LENGTH'] = arr_caps\n",
    "train['excl'] = arr_excl\n",
    "train['num'] = arr_num\n",
    "train['com'] = arr_com\n",
    "train['spam_words'] = arr_sw\n",
    "train.head()"
   ]
  },
  {
   "cell_type": "raw",
   "metadata": {},
   "source": [
    "Длина сообщения -- стандартный признак.\n",
    "Количество букв в ВЕРХНЕМ РЕГИСТРЕ, восклицательных знаков, каких-то конкретных слов, характерных для спама -- довольно часто встречается в сообщениях спама.\n",
    "Количество цифр, запятых -- может быть релевантно, потому что обычно в спаме буквы заменяются на цифры или буквы в слове разделены запятыми, чтобы снизить частоту появления характерных слов.\n",
    "Да, выбранные признаки отличаются для двух классов.\n",
    "Меньшее различие показывают запятые."
   ]
  },
  {
   "cell_type": "code",
   "execution_count": 587,
   "metadata": {
    "collapsed": false
   },
   "outputs": [],
   "source": [
    "train.drop(['message', 'lem', 'stem'], axis=1, inplace=True)"
   ]
  },
  {
   "cell_type": "code",
   "execution_count": 588,
   "metadata": {
    "collapsed": false
   },
   "outputs": [],
   "source": [
    "msg_train, msg_test, label_train, label_test = train_test_split(train.iloc[:, 1:], train.iloc[:, 0], test_size=0.2)"
   ]
  },
  {
   "cell_type": "code",
   "execution_count": 589,
   "metadata": {
    "collapsed": false
   },
   "outputs": [],
   "source": [
    "control = MultinomialNB()\n",
    "control.fit(msg_train, label_train)\n",
    "preds = control.predict(msg_test)"
   ]
  },
  {
   "cell_type": "code",
   "execution_count": 590,
   "metadata": {
    "collapsed": false
   },
   "outputs": [
    {
     "name": "stdout",
     "output_type": "stream",
     "text": [
      "Cross val score: 0.89464036462\n"
     ]
    }
   ],
   "source": [
    "scores = cross_val_score(control, msg_train, label_train, cv=10)\n",
    "print('Cross val score:', np.mean(scores))"
   ]
  },
  {
   "cell_type": "code",
   "execution_count": 591,
   "metadata": {
    "collapsed": false
   },
   "outputs": [
    {
     "name": "stdout",
     "output_type": "stream",
     "text": [
      "             precision    recall  f1-score   support\n",
      "\n",
      "        ham       0.90      0.94      0.92       160\n",
      "       spam       0.92      0.88      0.90       139\n",
      "\n",
      "avg / total       0.91      0.91      0.91       299\n",
      "\n"
     ]
    }
   ],
   "source": [
    "preds = control.predict(msg_test)\n",
    "print(classification_report(label_test, preds))"
   ]
  },
  {
   "cell_type": "raw",
   "metadata": {},
   "source": [
    "Качество модели относительно выское. \n",
    "Точность определения спама 92% и спам отлавливается в 88% случаев."
   ]
  },
  {
   "cell_type": "code",
   "execution_count": 592,
   "metadata": {
    "collapsed": false
   },
   "outputs": [
    {
     "data": {
      "text/plain": [
       "<module 'matplotlib.pyplot' from 'C:\\\\Users\\\\Maria\\\\Anaconda3\\\\lib\\\\site-packages\\\\matplotlib\\\\pyplot.py'>"
      ]
     },
     "execution_count": 592,
     "metadata": {},
     "output_type": "execute_result"
    },
    {
     "data": {
      "image/png": "[encoded data removed]",
      "text/plain": [
       "<matplotlib.figure.Figure at 0x13d51bd1f28>"
      ]
     },
     "metadata": {},
     "output_type": "display_data"
    }
   ],
   "source": [
    "plot_learning_curve(control, \"Learning Curves -- MultinomialNB\")"
   ]
  },
  {
   "cell_type": "raw",
   "metadata": {},
   "source": [
    "На кросс валидации обучаемость постепенно снижается.\n",
    "Для обычного обучения модели обучаемость на с количеством примеров медленно возрастает (но в начале был виден некоторый спад)."
   ]
  },
  {
   "cell_type": "code",
   "execution_count": 593,
   "metadata": {
    "collapsed": false
   },
   "outputs": [
    {
     "data": {
      "image/png": "[encoded data removed]",
      "text/plain": [
       "<matplotlib.figure.Figure at 0x13d542e6e10>"
      ]
     },
     "metadata": {},
     "output_type": "display_data"
    }
   ],
   "source": [
    "plotting_roc_curve(control, 'ROC curve -- MultinomialNB')"
   ]
  },
  {
   "cell_type": "raw",
   "metadata": {},
   "source": [
    "ROC-кривая находится над прямой y=x.\n",
    "Значит истинно положительных результатов больше, чем ложно положительных.\n",
    "Площадь под кривой довольно большая, значит модель показывает себя хорошо."
   ]
  },
  {
   "cell_type": "raw",
   "metadata": {},
   "source": [
    "Таким образом, лучшее качество показала изначальная модель наивного байеса, у которого самая высокая f-мера (95%) и самая большая площадь по рок-кривой."
   ]
  }
 ],
 "metadata": {
  "kernelspec": {
   "display_name": "Python 3",
   "language": "python",
   "name": "python3"
  },
  "language_info": {
   "codemirror_mode": {
    "name": "ipython",
    "version": 3
   },
   "file_extension": ".py",
   "mimetype": "text/x-python",
   "name": "python",
   "nbconvert_exporter": "python",
   "pygments_lexer": "ipython3",
   "version": "3.6.0"
  }
 },
 "nbformat": 4,
 "nbformat_minor": 2
}
